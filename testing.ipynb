{
 "cells": [
  {
   "cell_type": "code",
   "execution_count": 14,
   "metadata": {},
   "outputs": [],
   "source": [
    "import itertools as it\n",
    "import pandas as pd \n",
    "import numpy as np"
   ]
  },
  {
   "cell_type": "code",
   "execution_count": null,
   "metadata": {},
   "outputs": [],
   "source": [
    "class RMvisualiser():\n",
    "\n",
    "\n",
    "    #VALUES CAN CONTAIN NAN VALUE AND SHOULD BE FILTERED\n",
    "\n",
    "    #load the data\n",
    "    def load_data(self,path):\n",
    "        self.data = pd.read_excel(path,usecols=\"G:AG\")\n",
    "\n",
    "\n",
    "    #return all cells\n",
    "    def get_full(self):\n",
    "        return self.data.to_numpy()\n",
    "\n",
    "\n",
    "    #return all IL values\n",
    "    def get_all(self):\n",
    "        return self.data.to_numpy()[3:,1:]\n",
    "    \n",
    "\n",
    "    #get all IL values for a specific wavelengths\n",
    "    def get_all_wavelength(self, wavelength):\n",
    "        \n",
    "        temp = self.data.to_numpy()[3:,0] == wavelength\n",
    "\n",
    "        return self.data.to_numpy()[3:,0:][temp][:,1:]\n",
    "\n",
    "\n",
    "    # get all IL values for a specific connector index \n",
    "    def get_connector(self,index):\n",
    "\n",
    "        return self.get_all()[:,index]\n",
    "\n",
    "\n",
    "    # get all IL values for a specific fiber(jumper) index \n",
    "    def get_fiber(self,index):\n",
    "\n",
    "        return self.get_all()[:,[2*index,2*index+1]]\n",
    "    \n",
    "    # filter the data based on a list of fibers(jumpers to include)\n",
    "    # example :\n",
    "\n",
    "    # select fibers 1,2,3,4 \n",
    "    # RM.select_n_fibers([0,1,2,3])\n",
    "\n",
    "    def select_n_fibers(self,indecies):\n",
    "\n",
    "\n",
    "        wave_adjusted_indecies = []\n",
    "        adjusted_indecies = []\n",
    "        for i in indecies:\n",
    "            wave_adjusted_indecies.append(6*i)\n",
    "            wave_adjusted_indecies.append(6*i+1)\n",
    "            wave_adjusted_indecies.append(6*i+2)\n",
    "            wave_adjusted_indecies.append(6*i+3)\n",
    "            wave_adjusted_indecies.append(6*i+4)\n",
    "            wave_adjusted_indecies.append(6*i+5)\n",
    "\n",
    "            adjusted_indecies.append(2*i)\n",
    "            adjusted_indecies.append(2*i+1)\n",
    "\n",
    "\n",
    "        temp = self.get_all()[wave_adjusted_indecies][:,adjusted_indecies]\n",
    "\n",
    "        return temp\n",
    "    \n",
    "\n",
    "    #return a list with elements containing data for all\n",
    "    #possible combinations of 10 fibers chosen from 13 \n",
    "\n",
    "    def get_all_10connectors(self):\n",
    "\n",
    "        all_combinations_tupples = it.combinations(range(0,13),10)\n",
    "\n",
    "        full_data = []\n",
    "\n",
    "        for combination in all_combinations_tupples:\n",
    "\n",
    "            data = self.select_n_fibers(list(combination)).flatten()\n",
    "\n",
    "            data = data.astype(float)\n",
    "            data = data[~np.isnan(data)]\n",
    "\n",
    "            full_data.append(data)\n",
    "        \n",
    "        return full_data\n",
    "    \n",
    "\n",
    "    #returns a mean(avg) value of IL for\n",
    "    # possible combinations of connectors\n",
    "    def get_mean_all_10connectors(self):\n",
    "\n",
    "\n",
    "        return list(map(lambda x : x.mean(),self.get_all_10connectors()))\n",
    "    \n",
    "    \n",
    "    #returns a 97th percentile value of IL for\n",
    "    # possible combinations of connectors\n",
    "    def get_97percentiles(self):\n",
    "\n",
    "        full_data = self.get_all_10connectors()\n",
    "\n",
    "        return [np.percentile(x,97) for x in full_data]\n",
    "\n",
    "\n",
    "    #returns the average value of IL for all connectors\n",
    "\n",
    "    def average_connectors(self):\n",
    "\n",
    "        ILs = []\n",
    "        for i in range(26):\n",
    "            IL = self.get_connector(i).flatten()\n",
    "            IL = IL.astype(float)\n",
    "            IL = IL[~np.isnan(IL)]\n",
    "\n",
    "            ILs.append(IL.mean())\n",
    "\n",
    "        return ILs\n",
    "    \n",
    "    #returns the average value of IL for all filbers(jumpers)\n",
    "\n",
    "    def average_fibers(self):\n",
    "        ILs = []\n",
    "        for i in range(13):\n",
    "            IL = self.get_fiber(i).flatten()\n",
    "            IL = IL.astype(float)\n",
    "            IL = IL[~np.isnan(IL)]\n",
    "\n",
    "            ILs.append(IL.mean())\n",
    "\n",
    "        return ILs\n",
    "            \n",
    "\n",
    "    #returns the standard deviation for all connectors\n",
    "\n",
    "    def std_connectors(self):\n",
    "\n",
    "        ILs = []\n",
    "        for i in range(26):\n",
    "            IL = self.get_connector(i).flatten()\n",
    "            IL = IL.astype(float)\n",
    "            IL = IL[~np.isnan(IL)]\n",
    "\n",
    "            ILs.append(np.std(IL))\n",
    "\n",
    "        return ILs\n",
    "        \n",
    "    # returns the ranking of connectors based on the average IL\n",
    "\n",
    "    def connector_ranking(self):\n",
    "\n",
    "        means = self.average_connectors()\n",
    "\n",
    "        return np.argsort(means)\n",
    "    \n",
    "\n",
    "    # returns the mean values of ILs per connector \n",
    "\n",
    "    # ILs = RM.connector_wavelength_mean(1550)\n",
    "    def connetor_wavelength_mean(self,wavelength):\n",
    "\n",
    "        data = self.get_all_wavelength(wavelength)\n",
    "\n",
    "        averages = []\n",
    "        for i in range(26):\n",
    "            IL = data[:,i].flatten()\n",
    "            IL = IL.astype(float)\n",
    "            IL = IL[~np.isnan(IL)]\n",
    "\n",
    "            averages.append(IL.mean())\n",
    "\n",
    "\n",
    "        return averages\n",
    "    \n",
    "    \n",
    "    # returns the std of ILs per connector \n",
    "\n",
    "    # ILs = RM.connector_wavelength_mean(1550)\n",
    "    def connetor_wavelength_ranking_std(self,wavelength):\n",
    "\n",
    "        data = self.get_all_wavelength(wavelength)\n",
    "\n",
    "        stds = []\n",
    "        for i in range(26):\n",
    "            IL = data[:,i].flatten()\n",
    "            IL = IL.astype(float)\n",
    "            IL = IL[~np.isnan(IL)]\n",
    "\n",
    "            stds.append(np.std(IL))\n",
    "\n",
    "\n",
    "        return stds\n",
    "    \n",
    "\n",
    "     # returns the mean values of ILs per jumper \n",
    "\n",
    "    # ILs = RM.jumper_wavelength_mean(1550)\n",
    "    def jumper_wavelength_mean(self,wavelength):\n",
    "\n",
    "        data = self.get_all_wavelength(wavelength)\n",
    "\n",
    "        averages = []\n",
    "        for i in range(13):\n",
    "            IL = data[:,[2*i,2*i+1]].flatten()\n",
    "            IL = IL.astype(float)\n",
    "            IL = IL[~np.isnan(IL)]\n",
    "\n",
    "            averages.append(IL.mean())\n",
    "\n",
    "\n",
    "        return averages\n",
    "    \n",
    "    \n",
    "    # returns the std of ILs per jumper\n",
    "\n",
    "    # ILs = RM.jumper_wavelength_ranking_mean(1550)\n",
    "    def jumper_wavelength_ranking_std(self,wavelength):\n",
    "\n",
    "        data = self.get_all_wavelength(wavelength)\n",
    "\n",
    "        stds = []\n",
    "        for i in range(13):\n",
    "            IL = data[:,[2*i,2*i+1]].flatten()\n",
    "            IL = IL.astype(float)\n",
    "            IL = IL[~np.isnan(IL)]\n",
    "\n",
    "            stds.append(np.std(IL))\n",
    "\n",
    "\n",
    "        return stds"
   ]
  },
  {
   "cell_type": "code",
   "execution_count": null,
   "metadata": {},
   "outputs": [],
   "source": [
    "RM = RMvisualiser()\n",
    "\n",
    "RM.load_data(\"RM example data.xlsx\")\n",
    "\n",
    "\n",
    "RM.get_all()"
   ]
  },
  {
   "cell_type": "code",
   "execution_count": null,
   "metadata": {},
   "outputs": [],
   "source": [
    "import matplotlib.pyplot as plt\n",
    "\n",
    "plt.hist(RM.get_mean_all_10connectors(),20)\n",
    "plt.show()"
   ]
  },
  {
   "cell_type": "code",
   "execution_count": null,
   "metadata": {},
   "outputs": [],
   "source": [
    "import pandas as pd\n",
    "import numpy as np"
   ]
  },
  {
   "cell_type": "code",
   "execution_count": 2,
   "metadata": {},
   "outputs": [],
   "source": [
    "n_fibers = 12\n",
    "n_connectors = 26\n",
    "n_wavelengths = 3"
   ]
  },
  {
   "cell_type": "code",
   "execution_count": null,
   "metadata": {},
   "outputs": [],
   "source": [
    "Sheet = np.zeros((n_connectors*n_connectors+2,n_fibers+2),dtype=object)"
   ]
  },
  {
   "cell_type": "code",
   "execution_count": 4,
   "metadata": {},
   "outputs": [],
   "source": [
    "Sheet[0,0] = \"Reference Configuration\"\n",
    "Sheet[1,0] = \"Reference Connector\"\n",
    "Sheet[0,1] = \"Fiber Number\"\n",
    "Sheet[1,1] = \"DUT\"\n",
    "\n",
    "Sheet[1,2:n_fibers+2] = np.linspace(1,n_fibers,n_fibers)\n",
    "Sheet[2:n_connectors*n_connectors+2,1] = np.tile(np.linspace(1,n_connectors,n_connectors),n_connectors)\n",
    "Sheet[2:n_connectors*n_connectors+2,0] = np.repeat(np.linspace(1,n_connectors,n_connectors),n_connectors)\n",
    "\n"
   ]
  },
  {
   "cell_type": "code",
   "execution_count": null,
   "metadata": {},
   "outputs": [],
   "source": [
    "\n",
    "df = pd.DataFrame(Sheet)"
   ]
  },
  {
   "cell_type": "code",
   "execution_count": null,
   "metadata": {},
   "outputs": [],
   "source": [
    "import xlsxwriter"
   ]
  },
  {
   "cell_type": "code",
   "execution_count": null,
   "metadata": {},
   "outputs": [],
   "source": [
    "writer = pd.ExcelWriter(\"test.xlsx\", engine=\"xlsxwriter\")\n",
    "df.to_excel(writer,index = False,header=False)\n",
    "workbook = writer.book"
   ]
  },
  {
   "cell_type": "code",
   "execution_count": null,
   "metadata": {},
   "outputs": [],
   "source": [
    "merge_format = workbook.add_format(\n",
    "    {\n",
    "        \"bold\": 1,\n",
    "        \"border\": 1,\n",
    "        \"align\": \"center\",\n",
    "        \"valign\": \"vcenter\",\n",
    "    }\n",
    ")"
   ]
  },
  {
   "cell_type": "code",
   "execution_count": null,
   "metadata": {},
   "outputs": [],
   "source": [
    "for worksheet in workbook.worksheets():\n",
    "    column_letter = xlsxwriter.utility.xl_col_to_name(n_fibers+2)\n",
    "\n",
    "    print(f\"C1:{column_letter}1\")\n",
    "    worksheet.set_column(\"A:B\",20)\n",
    "    worksheet.merge_range(f\"C1:{column_letter}1\", \"Fiber Number\",merge_format)\n",
    "    for i in range(n_connectors):\n",
    "        worksheet.merge_range(f\"A{3+i*n_connectors}:A{2+(i+1)*n_connectors}\", f\"{i+1}\",merge_format)"
   ]
  },
  {
   "cell_type": "code",
   "execution_count": null,
   "metadata": {},
   "outputs": [],
   "source": [
    "writer.close()"
   ]
  },
  {
   "cell_type": "code",
   "execution_count": 1,
   "metadata": {},
   "outputs": [],
   "source": [
    "import data_loading\n",
    "\n",
    "dc = data_loading.DataCore()"
   ]
  },
  {
   "cell_type": "code",
   "execution_count": 2,
   "metadata": {},
   "outputs": [],
   "source": [
    "dc.create_excel_template(14,n_fibers=4,n_wavelengths=3)"
   ]
  },
  {
   "cell_type": "code",
   "execution_count": 4,
   "metadata": {},
   "outputs": [],
   "source": [
    "dc.load_excel(\"ExampleData.xlsx\")"
   ]
  },
  {
   "cell_type": "code",
   "execution_count": 5,
   "metadata": {},
   "outputs": [
    {
     "data": {
      "text/plain": [
       "{1550.0:                            0             1             2         3         4  \\\n",
       " 0    Reference Configuration  Fiber Number  Fiber Number       NaN       NaN   \n",
       " 1        Reference Connector           DUT             1  2.000000  3.000000   \n",
       " 2                          1             1       0.18836  0.117686  0.104654   \n",
       " 3                        NaN             2      0.141443  0.072320  0.043704   \n",
       " 4                        NaN             3      0.080465  0.019479  0.082475   \n",
       " ..                       ...           ...           ...       ...       ...   \n",
       " 193                      NaN            10       0.03019  0.003574  0.116242   \n",
       " 194                      NaN            11      0.034772  0.127943  0.016793   \n",
       " 195                      NaN            12      0.054064  0.097657  0.199341   \n",
       " 196                      NaN            13      0.171099  0.148136  0.140722   \n",
       " 197                      NaN            14      0.154672  0.060277  0.154652   \n",
       " \n",
       "             5  \n",
       " 0         NaN  \n",
       " 1    4.000000  \n",
       " 2    0.078456  \n",
       " 3    0.085913  \n",
       " 4    0.148424  \n",
       " ..        ...  \n",
       " 193  0.036711  \n",
       " 194  0.183316  \n",
       " 195  0.165667  \n",
       " 196  0.015088  \n",
       " 197  0.096866  \n",
       " \n",
       " [198 rows x 6 columns],\n",
       " 1650.0:                            0             1             2         3         4  \\\n",
       " 0    Reference Configuration  Fiber Number  Fiber Number       NaN       NaN   \n",
       " 1        Reference Connector           DUT             1  2.000000  3.000000   \n",
       " 2                          1             1      0.069978  0.042343  0.127525   \n",
       " 3                        NaN             2       0.16465  0.092078  0.001880   \n",
       " 4                        NaN             3      0.036588  0.158159  0.071393   \n",
       " ..                       ...           ...           ...       ...       ...   \n",
       " 193                      NaN            10      0.079519  0.048604  0.166330   \n",
       " 194                      NaN            11      0.014713  0.017869  0.094537   \n",
       " 195                      NaN            12      0.199341  0.031879  0.082707   \n",
       " 196                      NaN            13       0.08309  0.052941  0.121403   \n",
       " 197                      NaN            14       0.04741  0.157406  0.049434   \n",
       " \n",
       "             5  \n",
       " 0         NaN  \n",
       " 1    4.000000  \n",
       " 2    0.162526  \n",
       " 3    0.088570  \n",
       " 4    0.107105  \n",
       " ..        ...  \n",
       " 193  0.050927  \n",
       " 194  0.122369  \n",
       " 195  0.095489  \n",
       " 196  0.168207  \n",
       " 197  0.035855  \n",
       " \n",
       " [198 rows x 6 columns],\n",
       " 1770.0:                            0             1             2         3         4  \\\n",
       " 0    Reference Configuration  Fiber Number  Fiber Number       NaN       NaN   \n",
       " 1        Reference Connector           DUT             1  2.000000  3.000000   \n",
       " 2                          1             1      0.109306  0.096713  0.043445   \n",
       " 3                        NaN             2       0.08831  0.163881  0.088833   \n",
       " 4                        NaN             3        0.0846  0.107432  0.087303   \n",
       " ..                       ...           ...           ...       ...       ...   \n",
       " 193                      NaN            10      0.195167  0.004266  0.009848   \n",
       " 194                      NaN            11      0.119055  0.170478  0.088611   \n",
       " 195                      NaN            12      0.112938  0.163864  0.010293   \n",
       " 196                      NaN            13      0.040282  0.176185  0.111573   \n",
       " 197                      NaN            14      0.061785  0.047777  0.142597   \n",
       " \n",
       "             5  \n",
       " 0         NaN  \n",
       " 1    4.000000  \n",
       " 2    0.193653  \n",
       " 3    0.102605  \n",
       " 4    0.061041  \n",
       " ..        ...  \n",
       " 193  0.130645  \n",
       " 194  0.123671  \n",
       " 195  0.025027  \n",
       " 196  0.175940  \n",
       " 197  0.120172  \n",
       " \n",
       " [198 rows x 6 columns]}"
      ]
     },
     "execution_count": 5,
     "metadata": {},
     "output_type": "execute_result"
    }
   ],
   "source": [
    "dc.excel_data"
   ]
  },
  {
   "cell_type": "code",
   "execution_count": 6,
   "metadata": {},
   "outputs": [],
   "source": [
    "import regex"
   ]
  },
  {
   "cell_type": "code",
   "execution_count": 5,
   "metadata": {},
   "outputs": [
    {
     "ename": "NameError",
     "evalue": "name 'regex' is not defined",
     "output_type": "error",
     "traceback": [
      "\u001b[1;31m---------------------------------------------------------------------------\u001b[0m",
      "\u001b[1;31mNameError\u001b[0m                                 Traceback (most recent call last)",
      "Cell \u001b[1;32mIn[5], line 1\u001b[0m\n\u001b[1;32m----> 1\u001b[0m regex\u001b[38;5;241m.\u001b[39mfindall(\u001b[38;5;124mr\u001b[39m\u001b[38;5;124m\"\u001b[39m\u001b[38;5;124m[-+]?\u001b[39m\u001b[38;5;124m\\\u001b[39m\u001b[38;5;124md*\u001b[39m\u001b[38;5;124m\\\u001b[39m\u001b[38;5;124m.\u001b[39m\u001b[38;5;124m\\\u001b[39m\u001b[38;5;124md+|\u001b[39m\u001b[38;5;124m\\\u001b[39m\u001b[38;5;124md+nm\u001b[39m\u001b[38;5;124m\"\u001b[39m,\u001b[38;5;124m\"\u001b[39m\u001b[38;5;124m145nm\u001b[39m\u001b[38;5;124m\"\u001b[39m)\n",
      "\u001b[1;31mNameError\u001b[0m: name 'regex' is not defined"
     ]
    }
   ],
   "source": [
    "regex.findall(r\"[-+]?\\d*\\.\\d+|\\d+nm\",\"145nm\")"
   ]
  },
  {
   "cell_type": "code",
   "execution_count": 13,
   "metadata": {},
   "outputs": [
    {
     "data": {
      "text/plain": [
       "<regex.Match object; span=(0, 5), match='145nm'>"
      ]
     },
     "execution_count": 13,
     "metadata": {},
     "output_type": "execute_result"
    }
   ],
   "source": [
    "regex.match(r\"[-+]?\\d*\\.\\d+|\\d+nm\",\"145nm\")."
   ]
  },
  {
   "cell_type": "code",
   "execution_count": 9,
   "metadata": {},
   "outputs": [],
   "source": [
    "import pandas as pd\n",
    "ef = pd.ExcelFile(\"template.xlsx\")"
   ]
  },
  {
   "cell_type": "code",
   "execution_count": 10,
   "metadata": {},
   "outputs": [
    {
     "data": {
      "text/plain": [
       "['wavelength_0', 'wavelength_1', 'wavelength_2']"
      ]
     },
     "execution_count": 10,
     "metadata": {},
     "output_type": "execute_result"
    }
   ],
   "source": [
    "ef.sheet_names"
   ]
  },
  {
   "cell_type": "code",
   "execution_count": 11,
   "metadata": {},
   "outputs": [],
   "source": [
    "df = ef.parse(ef.sheet_names[0])"
   ]
  },
  {
   "cell_type": "code",
   "execution_count": 12,
   "metadata": {},
   "outputs": [
    {
     "data": {
      "text/html": [
       "<div>\n",
       "<style scoped>\n",
       "    .dataframe tbody tr th:only-of-type {\n",
       "        vertical-align: middle;\n",
       "    }\n",
       "\n",
       "    .dataframe tbody tr th {\n",
       "        vertical-align: top;\n",
       "    }\n",
       "\n",
       "    .dataframe thead th {\n",
       "        text-align: right;\n",
       "    }\n",
       "</style>\n",
       "<table border=\"1\" class=\"dataframe\">\n",
       "  <thead>\n",
       "    <tr style=\"text-align: right;\">\n",
       "      <th></th>\n",
       "      <th>Reference Configuration</th>\n",
       "      <th>Fiber Number</th>\n",
       "      <th>Fiber Number.1</th>\n",
       "      <th>Unnamed: 3</th>\n",
       "      <th>Unnamed: 4</th>\n",
       "      <th>Unnamed: 5</th>\n",
       "    </tr>\n",
       "  </thead>\n",
       "  <tbody>\n",
       "    <tr>\n",
       "      <th>0</th>\n",
       "      <td>Reference Connector</td>\n",
       "      <td>DUT</td>\n",
       "      <td>1</td>\n",
       "      <td>2</td>\n",
       "      <td>3</td>\n",
       "      <td>4</td>\n",
       "    </tr>\n",
       "    <tr>\n",
       "      <th>1</th>\n",
       "      <td>1</td>\n",
       "      <td>1</td>\n",
       "      <td>0</td>\n",
       "      <td>0</td>\n",
       "      <td>0</td>\n",
       "      <td>0</td>\n",
       "    </tr>\n",
       "    <tr>\n",
       "      <th>2</th>\n",
       "      <td>NaN</td>\n",
       "      <td>2</td>\n",
       "      <td>0</td>\n",
       "      <td>0</td>\n",
       "      <td>0</td>\n",
       "      <td>0</td>\n",
       "    </tr>\n",
       "    <tr>\n",
       "      <th>3</th>\n",
       "      <td>NaN</td>\n",
       "      <td>3</td>\n",
       "      <td>0</td>\n",
       "      <td>0</td>\n",
       "      <td>0</td>\n",
       "      <td>0</td>\n",
       "    </tr>\n",
       "    <tr>\n",
       "      <th>4</th>\n",
       "      <td>NaN</td>\n",
       "      <td>4</td>\n",
       "      <td>0</td>\n",
       "      <td>0</td>\n",
       "      <td>0</td>\n",
       "      <td>0</td>\n",
       "    </tr>\n",
       "  </tbody>\n",
       "</table>\n",
       "</div>"
      ],
      "text/plain": [
       "  Reference Configuration Fiber Number  Fiber Number.1  Unnamed: 3  \\\n",
       "0     Reference Connector          DUT               1           2   \n",
       "1                       1            1               0           0   \n",
       "2                     NaN            2               0           0   \n",
       "3                     NaN            3               0           0   \n",
       "4                     NaN            4               0           0   \n",
       "\n",
       "   Unnamed: 4  Unnamed: 5  \n",
       "0           3           4  \n",
       "1           0           0  \n",
       "2           0           0  \n",
       "3           0           0  \n",
       "4           0           0  "
      ]
     },
     "execution_count": 12,
     "metadata": {},
     "output_type": "execute_result"
    }
   ],
   "source": [
    "df.head()"
   ]
  },
  {
   "cell_type": "code",
   "execution_count": null,
   "metadata": {},
   "outputs": [],
   "source": []
  }
 ],
 "metadata": {
  "kernelspec": {
   "display_name": "base",
   "language": "python",
   "name": "python3"
  },
  "language_info": {
   "codemirror_mode": {
    "name": "ipython",
    "version": 3
   },
   "file_extension": ".py",
   "mimetype": "text/x-python",
   "name": "python",
   "nbconvert_exporter": "python",
   "pygments_lexer": "ipython3",
   "version": "3.12.3"
  }
 },
 "nbformat": 4,
 "nbformat_minor": 2
}
